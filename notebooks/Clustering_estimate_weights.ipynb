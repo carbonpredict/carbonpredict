{
 "cells": [
  {
   "cell_type": "code",
   "execution_count": null,
   "metadata": {},
   "outputs": [],
   "source": [
    "import pandas as pd\n",
    "import numpy as np\n",
    "import os\n",
    "import seaborn as sns\n",
    "import matplotlib.pyplot as plt\n",
    "from pandas.api.types import CategoricalDtype\n",
    "from sklearn import neighbors\n",
    "from sklearn.model_selection import train_test_split\n",
    "from sklearn.metrics import mean_squared_error, r2_score\n",
    "import joblib"
   ]
  },
  {
   "cell_type": "markdown",
   "metadata": {},
   "source": [
    "## Constants"
   ]
  },
  {
   "cell_type": "code",
   "execution_count": null,
   "metadata": {},
   "outputs": [],
   "source": [
    "#DATA_PATH = '../data' # Need to have the data as CSV files in this path\n",
    "DATA_PATH = '../data/mini' # Need to have the data as CSV files in this path"
   ]
  },
  {
   "cell_type": "markdown",
   "metadata": {},
   "source": [
    "## Function definitions"
   ]
  },
  {
   "cell_type": "code",
   "execution_count": null,
   "metadata": {},
   "outputs": [],
   "source": [
    "def load_source_data(path):\n",
    "    content = sorted(filter(lambda x: x.endswith(\".csv\"), os.listdir(path)))\n",
    "    df = pd.concat((pd.read_csv(f'{path}/{f}') for f in content))\n",
    "    return df"
   ]
  },
  {
   "cell_type": "code",
   "execution_count": null,
   "metadata": {},
   "outputs": [],
   "source": [
    "def preprocess(df):\n",
    "    # Drop empty features (dataset v. 1.0.0): unspsc_code, label \n",
    "    df = df.drop(['label', 'unspsc_code'], axis=1)\n",
    "\n",
    "    # Drop co2_total (target)\n",
    "    df = df.drop(['co2_total'], axis=1)\n",
    "\n",
    "    # Use ordered categories for size\n",
    "    size_type = CategoricalDtype(categories=[\"XS\", \"S\", \"M\", \"L\", \"XL\", \"XXL\"], ordered=True)\n",
    "    df[\"size\"] = df[\"size\"].astype(size_type)\n",
    "    df_weight = df[~df[\"weight\"].isna()]\n",
    "    y = df_weight[\"weight\"]\n",
    "    df_weight = df_weight.drop([\"weight\"], axis=1)\n",
    "    \n",
    "    # Convert the categoricals into a one-hot vector of binary variables\n",
    "    X = pd.get_dummies(df_weight)\n",
    "    \n",
    "    # Fill in 0 for NA in ftp_ columns\n",
    "    X = X.fillna(0)\n",
    "    return X, y"
   ]
  },
  {
   "cell_type": "code",
   "execution_count": null,
   "metadata": {
    "scrolled": true
   },
   "outputs": [],
   "source": [
    "def searchK():    \n",
    "    number_to_try = 12\n",
    "    losses = np.zeros((number_to_try+1), dtype=np.float64)\n",
    "    for n in range(8,number_to_try+1):\n",
    "        knn = neighbors.KNeighborsRegressor(n, algorithm='ball_tree', weights='uniform')\n",
    "        knn.fit(X_train, y_train)\n",
    "        y_pred = knn.predict(X_test)\n",
    "        # Use simple RMSE\n",
    "        elementwise_loss = np.sqrt(np.square(y_test-y_pred))\n",
    "        losses[n] = np.sum(elementwise_loss)\n",
    "\n",
    "    ax = sns.lineplot(x=range(number_to_try+1), y=losses).set_title(\"KNN, number of neighbors vs loss\")"
   ]
  },
  {
   "cell_type": "code",
   "execution_count": null,
   "metadata": {},
   "outputs": [],
   "source": [
    "def train_weight_predictor(X_train, y_train, n_neighbors=9):\n",
    "    knn = neighbors.KNeighborsRegressor(n_neighbors, algorithm='ball_tree', weights='uniform')\n",
    "    knn.fit(X_train, y_train)\n",
    "    return knn"
   ]
  },
  {
   "cell_type": "code",
   "execution_count": null,
   "metadata": {},
   "outputs": [],
   "source": [
    "def save_model(model, filename):\n",
    "    path = f\"{DATA_PATH}/{filename}\"\n",
    "    joblib.dump(model, path)\n",
    "    print(f\"Saved model to disk at {path}\")\n",
    "    return\n",
    "\n",
    "def load_model(filename):\n",
    "    path = f\"{DATA_PATH}/{filename}\"\n",
    "    knn = joblib.load(path)\n",
    "    print(f\"Loaded model from disk at {path}\")\n",
    "    return knn"
   ]
  },
  {
   "cell_type": "code",
   "execution_count": null,
   "metadata": {},
   "outputs": [],
   "source": [
    "def evaluate(model, X_test, y_test):\n",
    "    y_pred = knn.predict(X_test)\n",
    "\n",
    "    rmse = mean_squared_error(y, y_pred, squared=False)\n",
    "    r2 = r2_score(y, y_pred)\n",
    "    \n",
    "    print(\"RMSE Score:\", rmse)\n",
    "    print(\"R^2 Score:\", r2)\n",
    "\n",
    "    return rmse"
   ]
  },
  {
   "cell_type": "markdown",
   "metadata": {},
   "source": [
    "## Pipeline for training weight estimator"
   ]
  },
  {
   "cell_type": "code",
   "execution_count": null,
   "metadata": {},
   "outputs": [],
   "source": [
    "df = load_source_data(path=DATA_PATH)\n",
    "# If needed, use this line to use only top 100 000 rows for experimentation\n",
    "df = df[:100000]\n",
    "\n",
    "X, y = preprocess(df)\n",
    "\n",
    "# Train-test-split\n",
    "X_train, X_test, y_train, y_test = train_test_split(X, y, test_size=0.2, random_state=42)\n",
    "\n",
    "knn = train_weight_predictor(X_train, y_train)\n",
    "rmse = evaluate(knn, X_test, y_test)"
   ]
  },
  {
   "cell_type": "code",
   "execution_count": null,
   "metadata": {},
   "outputs": [],
   "source": [
    "filename = f\"nearestneighbor_weight_regression_{n_neighbors}.sav\"\n",
    "# save_model(knn, filename)\n",
    "# load_model(filename)"
   ]
  },
  {
   "cell_type": "markdown",
   "metadata": {},
   "source": [
    "## Predict weight values"
   ]
  },
  {
   "cell_type": "code",
   "execution_count": null,
   "metadata": {},
   "outputs": [],
   "source": [
    "df2 = load_source_data(path=DATA_PATH)\n",
    "samples = df2[df2[\"weight\"].isna()]"
   ]
  },
  {
   "cell_type": "code",
   "execution_count": null,
   "metadata": {},
   "outputs": [],
   "source": [
    "samples_pred_weight = knn.predict(samples)"
   ]
  },
  {
   "cell_type": "code",
   "execution_count": null,
   "metadata": {},
   "outputs": [],
   "source": [
    "samples_pred_weight[0:10]"
   ]
  }
 ],
 "metadata": {
  "colab": {
   "name": "Compensate EDA Template.ipynb",
   "provenance": []
  },
  "kernelspec": {
   "display_name": "Python 3",
   "language": "python",
   "name": "python3"
  },
  "language_info": {
   "codemirror_mode": {
    "name": "ipython",
    "version": 3
   },
   "file_extension": ".py",
   "mimetype": "text/x-python",
   "name": "python",
   "nbconvert_exporter": "python",
   "pygments_lexer": "ipython3",
   "version": "3.7.4"
  }
 },
 "nbformat": 4,
 "nbformat_minor": 1
}
