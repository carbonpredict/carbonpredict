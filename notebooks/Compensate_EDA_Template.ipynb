{
 "cells": [
  {
   "cell_type": "code",
   "execution_count": null,
   "metadata": {},
   "outputs": [],
   "source": [
    "import pandas as pd\n",
    "import os"
   ]
  },
  {
   "cell_type": "markdown",
   "metadata": {},
   "source": [
    "## Constants"
   ]
  },
  {
   "cell_type": "code",
   "execution_count": null,
   "metadata": {},
   "outputs": [],
   "source": [
    "DATA_PATH = '../data' # Need to have the data as CSV files in this path"
   ]
  },
  {
   "cell_type": "markdown",
   "metadata": {},
   "source": [
    "## Scripts for loading data"
   ]
  },
  {
   "cell_type": "code",
   "execution_count": null,
   "metadata": {
    "colab": {
     "base_uri": "https://localhost:8080/",
     "height": 119
    },
    "colab_type": "code",
    "id": "mqgEZ11ftuKL",
    "outputId": "fb6986a2-d935-486d-e562-d2cc94ef6ffb"
   },
   "outputs": [],
   "source": [
    "# This is for if you need to clone the data repo and extract data csv files\n",
    "\n",
    "# git clone https://github.com/Compensate-Operations/emission-sample-data.git\n",
    "\n",
    "# !for i in /emission-sample-data/datasets/textile-v1.0.0/*.tgz; do tar -zxvf \"$i\" ;done\n",
    "# !ls -lah\n",
    "# !rm ._textile-v1.0.0-5.csv"
   ]
  },
  {
   "cell_type": "code",
   "execution_count": null,
   "metadata": {},
   "outputs": [],
   "source": [
    "%pwd"
   ]
  },
  {
   "cell_type": "code",
   "execution_count": null,
   "metadata": {
    "colab": {
     "base_uri": "https://localhost:8080/",
     "height": 524
    },
    "colab_type": "code",
    "id": "_ozr6nXUvSZA",
    "outputId": "4fbdf78d-0a06-44b2-d204-ea7ce8689685"
   },
   "outputs": [],
   "source": [
    "content = sorted(filter(lambda x: x.endswith(\".csv\"), os.listdir(DATA_PATH)))\n",
    "\n",
    "df = pd.concat((pd.read_csv(f'{DATA_PATH}/{f}') for f in content))\n",
    "df"
   ]
  },
  {
   "cell_type": "code",
   "execution_count": null,
   "metadata": {
    "colab": {
     "base_uri": "https://localhost:8080/",
     "height": 456
    },
    "colab_type": "code",
    "id": "Q_LZo6TxzWTQ",
    "outputId": "3157b35f-9cc9-40b2-dfca-f630686acb6e"
   },
   "outputs": [],
   "source": [
    "\n",
    "df[~df[\"co2_total\"].isna()]\n"
   ]
  },
  {
   "cell_type": "code",
   "execution_count": null,
   "metadata": {},
   "outputs": [],
   "source": []
  }
 ],
 "metadata": {
  "colab": {
   "name": "Compensate EDA Template.ipynb",
   "provenance": []
  },
  "kernelspec": {
   "display_name": "Python 3",
   "language": "python",
   "name": "python3"
  },
  "language_info": {
   "codemirror_mode": {
    "name": "ipython",
    "version": 3
   },
   "file_extension": ".py",
   "mimetype": "text/x-python",
   "name": "python",
   "nbconvert_exporter": "python",
   "pygments_lexer": "ipython3",
   "version": "3.7.4"
  }
 },
 "nbformat": 4,
 "nbformat_minor": 1
}
